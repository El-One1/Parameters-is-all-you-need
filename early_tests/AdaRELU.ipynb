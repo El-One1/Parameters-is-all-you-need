{
 "cells": [
  {
   "cell_type": "code",
   "execution_count": 3,
   "metadata": {},
   "outputs": [],
   "source": [
    "import math\n",
    "import torch\n",
    "import torchvision\n",
    "import torch.nn as nn\n",
    "import torch.nn.functional as F\n",
    "import time as time\n",
    "import numpy as np\n",
    "from gradient_descent_the_ultimate_optimizer import gdtuo\n",
    "from gradient_descent_the_ultimate_optimizer.gdtuo import Optimizable\n",
    "import os\n",
    "import matplotlib.pyplot as plt\n",
    "import imageio\n",
    "from IPython.display import Video, Image"
   ]
  },
  {
   "cell_type": "code",
   "execution_count": 4,
   "metadata": {},
   "outputs": [],
   "source": [
    "class AdaRELU(Optimizable):\n",
    "\n",
    "    def __init__(self, positive_slope, negative_slope, optimizer):\n",
    "\n",
    "        self.parameters = {'positive_slope': torch.tensor(positive_slope, requires_grad=True),\n",
    "                           'negative_slope': torch.tensor(negative_slope, requires_grad=True)}\n",
    "        self.optimizer = optimizer\n",
    "        self.all_params_with_gradients = [self.parameters['positive_slope'], self.parameters['negative_slope']]\n",
    "        \n",
    "        super().__init__(self.parameters, optimizer)\n",
    "\n",
    "    def __call__(self, input):\n",
    "        output = torch.where(input >= 0, input * self.parameters['positive_slope'], input * self.parameters['negative_slope'])\n",
    "        return output\n",
    "    \n",
    "    def step(self):\n",
    "        self.optimizer.step(self.parameters)\n",
    "\n",
    "adaRELU = AdaRELU(1., 0.01, gdtuo.SGD(alpha = 0.001))\n",
    "adaRELU.initialize()\n",
    "\n",
    "x = torch.tensor([[1., 2., 3.], [7., 12., 8.], [-1., -3., -2000.]], requires_grad=True)\n",
    "y = torch.tensor([[1.5, 3., 4.5], [10.5, 18., 12.], [-.01, -.03, -20.]], requires_grad=True)\n",
    "\n",
    "criterion = nn.MSELoss()"
   ]
  },
  {
   "cell_type": "code",
   "execution_count": 5,
   "metadata": {},
   "outputs": [],
   "source": [
    "for i in range(1000):\n",
    "\n",
    "    adaRELU.begin()\n",
    "    adaRELU.zero_grad()\n",
    "\n",
    "\n",
    "    y_hat = adaRELU(x)\n",
    "    loss = criterion(y_hat, y)\n",
    "    loss.backward()\n",
    "    adaRELU.step()"
   ]
  },
  {
   "cell_type": "code",
   "execution_count": 6,
   "metadata": {},
   "outputs": [
    {
     "data": {
      "text/plain": [
       "(tensor(1.5000, grad_fn=<SubBackward0>),\n",
       " tensor(0.0100, grad_fn=<SubBackward0>))"
      ]
     },
     "execution_count": 6,
     "metadata": {},
     "output_type": "execute_result"
    }
   ],
   "source": [
    "adaRELU.parameters['positive_slope'], adaRELU.parameters['negative_slope']"
   ]
  },
  {
   "cell_type": "code",
   "execution_count": 7,
   "metadata": {},
   "outputs": [
    {
     "name": "stdout",
     "output_type": "stream",
     "text": [
      "cuda\n"
     ]
    }
   ],
   "source": [
    "class MNIST_CNN(nn.Module):\n",
    "    def __init__(self, adaRELU):\n",
    "        super(MNIST_CNN, self).__init__()\n",
    "        self.conv1 = nn.Conv2d(1, 32, kernel_size=3, stride=1, padding=1)\n",
    "        self.conv2 = nn.Conv2d(32, 64, kernel_size=3, stride=1, padding=1)\n",
    "        self.dropout1 = nn.Dropout2d(0.25)\n",
    "        self.dropout2 = nn.Dropout2d(0.5)\n",
    "        self.fc1 = nn.Linear(12544, 128)  # Adjusted input dimensions\n",
    "        self.fc2 = nn.Linear(128, 10)\n",
    "        self.adaRELU = adaRELU\n",
    "\n",
    "    def forward(self, x):\n",
    "        x = self.conv1(x)\n",
    "        x = self.adaRELU(x)\n",
    "        x = self.conv2(x)\n",
    "        x = self.adaRELU(x)\n",
    "        x = F.max_pool2d(x, 2)\n",
    "        x = self.dropout1(x)\n",
    "        x = torch.flatten(x, 1)\n",
    "        x = self.fc1(x)\n",
    "        x = self.adaRELU(x)\n",
    "        x = self.dropout2(x)\n",
    "        x = self.fc2(x)\n",
    "        output = F.log_softmax(x, dim=1)\n",
    "        return output\n",
    "\n",
    "\n",
    "\n",
    "BATCH_SIZE = 128\n",
    "EPOCHS = 5\n",
    "DEVICE = 'cuda' if torch.cuda.is_available() else 'cpu'\n",
    "print(DEVICE)\n",
    "\n",
    "mnist_train = torchvision.datasets.MNIST('./data', train=True, download=True, transform=torchvision.transforms.ToTensor())\n",
    "mnist_test = torchvision.datasets.MNIST('./data', train=False, download=True, transform=torchvision.transforms.ToTensor())\n",
    "dl_train = torch.utils.data.DataLoader(mnist_train, batch_size=BATCH_SIZE, shuffle=True)\n",
    "dl_test = torch.utils.data.DataLoader(mnist_test, batch_size=BATCH_SIZE, shuffle=False)\n",
    "\n",
    "adaRELU_MNIST = AdaRELU(1., 0.01, gdtuo.SGD(alpha = 0.001))\n",
    "#optim = gdtuo.SGD(alpha=0.0769)\n",
    "model = MNIST_CNN(adaRELU_MNIST).to(DEVICE)\n",
    "optim = torch.optim.SGD(model.parameters(), lr=0.000769)\n",
    "\n",
    "#mw = gdtuo.ModuleWrapper(model, optimizer=optim)\n",
    "adaRELU_MNIST.initialize()\n",
    "#mw.initialize()"
   ]
  },
  {
   "cell_type": "code",
   "execution_count": 8,
   "metadata": {},
   "outputs": [
    {
     "name": "stderr",
     "output_type": "stream",
     "text": [
      "C:\\Users\\elopo\\AppData\\Local\\Packages\\PythonSoftwareFoundation.Python.3.11_qbz5n2kfra8p0\\LocalCache\\local-packages\\Python311\\site-packages\\torch\\nn\\functional.py:1331: UserWarning: dropout2d: Received a 2-D input to dropout2d, which is deprecated and will result in an error in a future release. To retain the behavior and silence this warning, please use dropout instead. Note that dropout2d exists to provide channel-wise dropout on inputs with 2 spatial dimensions, a channel dimension, and an optional batch dimension (i.e. 3D or 4D inputs).\n",
      "  warnings.warn(warn_msg)\n",
      "C:\\Users\\elopo\\AppData\\Local\\Packages\\PythonSoftwareFoundation.Python.3.11_qbz5n2kfra8p0\\LocalCache\\local-packages\\Python311\\site-packages\\torch\\autograd\\__init__.py:200: UserWarning: Using backward() with create_graph=True will create a reference cycle between the parameter and its gradient which can cause a memory leak. We recommend using autograd.grad when creating the graph to avoid this. If you have to use this function, make sure to reset the .grad fields of your parameters to None after use to break the cycle and avoid the leak. (Triggered internally at ..\\torch\\csrc\\autograd\\engine.cpp:1156.)\n",
      "  Variable._execution_engine.run_backward(  # Calls into the C++ engine to run the backward pass\n"
     ]
    },
    {
     "name": "stdout",
     "output_type": "stream",
     "text": [
      "EPOCH: 1, TRAIN LOSS: 2.2784707703908285, ACC: 0.16443333333333332\n",
      "EPOCH: 2, TRAIN LOSS: 2.148403410847982, ACC: 0.40336666666666665\n",
      "EPOCH: 3, TRAIN LOSS: 1.3096345356941224, ACC: 0.6470333333333333\n",
      "EPOCH: 4, TRAIN LOSS: 0.6349108519236246, ACC: 0.8056833333333333\n",
      "EPOCH: 5, TRAIN LOSS: 0.47963878558476764, ACC: 0.8546166666666667\n",
      "EPOCH: 6, TRAIN LOSS: 0.41281561846733095, ACC: 0.87565\n",
      "EPOCH: 7, TRAIN LOSS: 0.37324214283625284, ACC: 0.8898166666666667\n",
      "EPOCH: 8, TRAIN LOSS: 0.34178474605878195, ACC: 0.89905\n",
      "EPOCH: 9, TRAIN LOSS: 0.32071906592051186, ACC: 0.90605\n",
      "EPOCH: 10, TRAIN LOSS: 0.30546625185012816, ACC: 0.90925\n",
      "EPOCH: 11, TRAIN LOSS: 0.28854260341326393, ACC: 0.9147\n",
      "EPOCH: 12, TRAIN LOSS: 0.2780913937807083, ACC: 0.91835\n",
      "EPOCH: 13, TRAIN LOSS: 0.2653726577281952, ACC: 0.92235\n",
      "EPOCH: 14, TRAIN LOSS: 0.255489746538798, ACC: 0.9246666666666666\n",
      "EPOCH: 15, TRAIN LOSS: 0.25042732381820676, ACC: 0.9268833333333333\n",
      "EPOCH: 16, TRAIN LOSS: 0.24121063443024954, ACC: 0.92965\n",
      "EPOCH: 17, TRAIN LOSS: 0.23737687970797222, ACC: 0.9297166666666666\n",
      "EPOCH: 18, TRAIN LOSS: 0.2274153297742208, ACC: 0.93365\n",
      "EPOCH: 19, TRAIN LOSS: 0.22319531503518422, ACC: 0.93455\n",
      "EPOCH: 20, TRAIN LOSS: 0.21727540876070658, ACC: 0.9366166666666667\n",
      "Time taken: 141.6723952293396\n"
     ]
    }
   ],
   "source": [
    "init_time = time.time()\n",
    "EPOCHS = 20\n",
    "negative_slopes_encountered = [model.adaRELU.parameters['negative_slope'].item()]\n",
    "positive_slopes_encountered = [model.adaRELU.parameters['positive_slope'].item()]\n",
    "for i in range(1, EPOCHS+1):\n",
    "    running_acc = 0.0\n",
    "    running_loss = 0.0\n",
    "    for j, (features_, labels_) in enumerate(dl_train):\n",
    "        #mw.begin() # call this before each step, enables gradient tracking on desired params\n",
    "        adaRELU_MNIST.begin()\n",
    "        adaRELU_MNIST.zero_grad()\n",
    "        optim.zero_grad()\n",
    "        features, labels = features_.to(DEVICE), labels_.to(DEVICE)\n",
    "        pred = model.forward(features)\n",
    "        loss = F.nll_loss(pred, labels)\n",
    "        #mw.zero_grad()\n",
    "\n",
    "        loss.backward(create_graph=True) # important! use create_graph=True\n",
    "        #mw.step()\n",
    "        optim.step()\n",
    "        adaRELU_MNIST.step()\n",
    "        running_loss += loss.item() * features_.size(0)\n",
    "        running_acc += (torch.argmax(pred, dim=1) == labels).sum().item()\n",
    "    \n",
    "    negative_slopes_encountered.append(model.adaRELU.parameters['negative_slope'].item())\n",
    "    positive_slopes_encountered.append(model.adaRELU.parameters['positive_slope'].item())\n",
    "    train_loss = running_loss / len(dl_train.dataset)\n",
    "    train_acc = running_acc / len(dl_train.dataset)\n",
    "    print(\"EPOCH: {}, TRAIN LOSS: {}, ACC: {}\".format(i, train_loss, train_acc))\n",
    "print(\"Time taken: {}\".format(time.time() - init_time))"
   ]
  },
  {
   "cell_type": "code",
   "execution_count": 9,
   "metadata": {},
   "outputs": [
    {
     "name": "stderr",
     "output_type": "stream",
     "text": [
      "C:\\Users\\elopo\\AppData\\Local\\Temp\\ipykernel_23588\\3896094829.py:18: DeprecationWarning: Starting with ImageIO v3 the behavior of this function will switch to that of iio.v3.imread. To keep the current behavior (and make this warning disappear) use `import imageio.v2 as imageio` or call `imageio.v2.imread` directly.\n",
      "  imageio.mimsave(video, [imageio.imread('plots/{}.png'.format(i)) for i in range(len(negative_slopes_encountered))], fps = 3)\n"
     ]
    },
    {
     "data": {
      "text/html": [
       "<video src=\"./adaRELU.mp4\" controls  >\n",
       "      Your browser does not support the <code>video</code> element.\n",
       "    </video>"
      ],
      "text/plain": [
       "<IPython.core.display.Video object>"
      ]
     },
     "execution_count": 9,
     "metadata": {},
     "output_type": "execute_result"
    }
   ],
   "source": [
    "for i in range(len(negative_slopes_encountered)):\n",
    "    x = np.linspace(-10, 10, 100)\n",
    "    y = np.where(x >= 0, x * positive_slopes_encountered[i], x * negative_slopes_encountered[i])\n",
    "    fig, ax = plt.subplots()\n",
    "    ax.plot(x, y)\n",
    "    # set small cross at 0.0\n",
    "    ax.plot([0.0], [0.0], 'x', color='red')\n",
    "    ax.set_title('slopes: {:.3f}, {:.3f}'.format(positive_slopes_encountered[i], negative_slopes_encountered[i]))\n",
    "\n",
    "    ax.set_xlim([-10, 10])\n",
    "    ax.set_ylim([-3, 10])\n",
    "\n",
    "    os.makedirs('plots', exist_ok=True)\n",
    "    plt.savefig('plots/{}.png'.format(i))\n",
    "    plt.close()\n",
    "\n",
    "video = './adaRELU.mp4'\n",
    "imageio.mimsave(video, [imageio.imread('plots/{}.png'.format(i)) for i in range(len(negative_slopes_encountered))], fps = 3)\n",
    "#play it here\n",
    "Video(video)"
   ]
  },
  {
   "cell_type": "code",
   "execution_count": 10,
   "metadata": {},
   "outputs": [
    {
     "name": "stdout",
     "output_type": "stream",
     "text": [
      "cuda\n"
     ]
    }
   ],
   "source": [
    "class MNIST_CNN(nn.Module):\n",
    "    def __init__(self):\n",
    "        super(MNIST_CNN, self).__init__()\n",
    "        self.conv1 = nn.Conv2d(1, 32, kernel_size=3, stride=1, padding=1)\n",
    "        self.conv2 = nn.Conv2d(32, 64, kernel_size=3, stride=1, padding=1)\n",
    "        self.dropout1 = nn.Dropout2d(0.25)\n",
    "        self.dropout2 = nn.Dropout2d(0.5)\n",
    "        self.fc1 = nn.Linear(12544, 128)  # Adjusted input dimensions\n",
    "        self.fc2 = nn.Linear(128, 10)\n",
    "\n",
    "    def forward(self, x):\n",
    "        x = self.conv1(x)\n",
    "        x = F.relu(x)\n",
    "        x = self.conv2(x)\n",
    "        x = F.relu(x)\n",
    "        x = F.max_pool2d(x, 2)\n",
    "        x = self.dropout1(x)\n",
    "        x = torch.flatten(x, 1)\n",
    "        x = self.fc1(x)\n",
    "        x = F.relu(x)\n",
    "        x = self.dropout2(x)\n",
    "        x = self.fc2(x)\n",
    "        output = F.log_softmax(x, dim=1)\n",
    "        return output\n",
    "\n",
    "\n",
    "\n",
    "BATCH_SIZE = 256\n",
    "EPOCHS = 20\n",
    "DEVICE = 'cuda' if torch.cuda.is_available() else 'cpu'\n",
    "print(DEVICE)\n",
    "\n",
    "mnist_train = torchvision.datasets.MNIST('./data', train=True, download=True, transform=torchvision.transforms.ToTensor())\n",
    "mnist_test = torchvision.datasets.MNIST('./data', train=False, download=True, transform=torchvision.transforms.ToTensor())\n",
    "dl_train = torch.utils.data.DataLoader(mnist_train, batch_size=BATCH_SIZE, shuffle=True)\n",
    "dl_test = torch.utils.data.DataLoader(mnist_test, batch_size=256, shuffle=False)\n",
    "\n",
    "\n",
    "model = MNIST_CNN().to(DEVICE)\n",
    "optim = torch.optim.SGD(model.parameters(), lr=0.000769)"
   ]
  },
  {
   "cell_type": "code",
   "execution_count": 12,
   "metadata": {},
   "outputs": [
    {
     "name": "stdout",
     "output_type": "stream",
     "text": [
      "EPOCH: 1, TRAIN LOSS: 0.8933082212766011, ACC: 0.7489166666666667\n",
      "EPOCH: 2, TRAIN LOSS: 0.7898162660280863, ACC: 0.77415\n",
      "EPOCH: 3, TRAIN LOSS: 0.7145514055887858, ACC: 0.7914\n",
      "EPOCH: 4, TRAIN LOSS: 0.6597309016545614, ACC: 0.8084\n",
      "EPOCH: 5, TRAIN LOSS: 0.6211429214159647, ACC: 0.81885\n",
      "EPOCH: 6, TRAIN LOSS: 0.5878936322530111, ACC: 0.82785\n",
      "EPOCH: 7, TRAIN LOSS: 0.5605762076377868, ACC: 0.8369\n",
      "EPOCH: 8, TRAIN LOSS: 0.5366340565681458, ACC: 0.8448\n",
      "EPOCH: 9, TRAIN LOSS: 0.5195656455993652, ACC: 0.8480333333333333\n",
      "EPOCH: 10, TRAIN LOSS: 0.5052648693084717, ACC: 0.8531666666666666\n",
      "Time taken: 49.096388816833496\n"
     ]
    }
   ],
   "source": [
    "init_time = time.time()\n",
    "EPOCHS = 10\n",
    "for i in range(1, EPOCHS+1):\n",
    "    running_acc = 0.0\n",
    "    running_loss = 0.0\n",
    "    for j, (features_, labels_) in enumerate(dl_train):\n",
    "        #mw.begin() # call this before each step, enables gradient tracking on desired params\n",
    "        optim.zero_grad()\n",
    "\n",
    "        features, labels = features_.to(DEVICE), labels_.to(DEVICE)\n",
    "        pred = model.forward(features)\n",
    "        loss = F.nll_loss(pred, labels)\n",
    "        #mw.zero_grad()\n",
    "        loss.backward(create_graph=True) # important! use create_graph=True\n",
    "        #mw.step()\n",
    "        optim.step()\n",
    "        running_loss += loss.item() * features_.size(0)\n",
    "        running_acc += (torch.argmax(pred, dim=1) == labels).sum().item()\n",
    "    train_loss = running_loss / len(dl_train.dataset)\n",
    "    train_acc = running_acc / len(dl_train.dataset)\n",
    "    print(\"EPOCH: {}, TRAIN LOSS: {}, ACC: {}\".format(i, train_loss, train_acc))\n",
    "print(\"Time taken: {}\".format(time.time() - init_time))"
   ]
  }
 ],
 "metadata": {
  "kernelspec": {
   "display_name": "Python 3",
   "language": "python",
   "name": "python3"
  },
  "language_info": {
   "codemirror_mode": {
    "name": "ipython",
    "version": 3
   },
   "file_extension": ".py",
   "mimetype": "text/x-python",
   "name": "python",
   "nbconvert_exporter": "python",
   "pygments_lexer": "ipython3",
   "version": "3.11.7"
  }
 },
 "nbformat": 4,
 "nbformat_minor": 2
}
