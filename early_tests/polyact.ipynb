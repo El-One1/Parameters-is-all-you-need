{
 "cells": [
  {
   "cell_type": "code",
   "execution_count": 1,
   "metadata": {},
   "outputs": [],
   "source": [
    "import math\n",
    "import torch\n",
    "import torchvision\n",
    "import torch.nn as nn\n",
    "import torch.nn.functional as F\n",
    "import time as time\n",
    "import numpy as np\n",
    "from gradient_descent_the_ultimate_optimizer import gdtuo\n",
    "from gradient_descent_the_ultimate_optimizer.gdtuo import Optimizable\n",
    "import os\n",
    "import matplotlib.pyplot as plt\n",
    "import imageio\n",
    "from IPython.display import Video, Image"
   ]
  },
  {
   "cell_type": "code",
   "execution_count": null,
   "metadata": {},
   "outputs": [],
   "source": [
    "class PolyAct(Optimizable):\n",
    "\n",
    "    def __init__(self, positive_slope, negative_slope, optimizer):\n",
    "\n",
    "        self.parameters = {'positive_slope': torch.tensor(positive_slope, requires_grad=True),\n",
    "                           'negative_slope': torch.tensor(negative_slope, requires_grad=True)}\n",
    "        self.optimizer = optimizer\n",
    "        self.all_params_with_gradients = [self.parameters['positive_slope'], self.parameters['negative_slope']]\n",
    "        \n",
    "        super().__init__(self.parameters, optimizer)\n",
    "\n",
    "    def __call__(self, input):\n",
    "        output = torch.where(input >= 0, input * self.parameters['positive_slope'], input * self.parameters['negative_slope'])\n",
    "        return output\n",
    "    \n",
    "    def step(self):\n",
    "        self.optimizer.step(self.parameters)\n",
    "\n",
    "adaRELU = PolyAct(1., 0.01, gdtuo.SGD(alpha = 0.001))\n",
    "adaRELU.initialize()\n",
    "\n",
    "x = torch.tensor([[1., 2., 3.], [7., 12., 8.], [-1., -3., -2000.]], requires_grad=True)\n",
    "y = torch.tensor([[1.5, 3., 4.5], [10.5, 18., 12.], [-.01, -.03, -20.]], requires_grad=True)\n",
    "\n",
    "criterion = nn.MSELoss()"
   ]
  }
 ],
 "metadata": {
  "kernelspec": {
   "display_name": "Python 3",
   "language": "python",
   "name": "python3"
  },
  "language_info": {
   "codemirror_mode": {
    "name": "ipython",
    "version": 3
   },
   "file_extension": ".py",
   "mimetype": "text/x-python",
   "name": "python",
   "nbconvert_exporter": "python",
   "pygments_lexer": "ipython3",
   "version": "3.11.7"
  }
 },
 "nbformat": 4,
 "nbformat_minor": 2
}
