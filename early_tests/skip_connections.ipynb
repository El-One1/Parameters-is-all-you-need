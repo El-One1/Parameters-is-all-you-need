{
 "cells": [
  {
   "cell_type": "code",
   "execution_count": 4,
   "metadata": {},
   "outputs": [],
   "source": [
    "import torch \n",
    "import torch.nn as nn\n",
    "import torch.nn.functional as F\n",
    "from torch.optim import Adam\n",
    "from torch.utils.data import DataLoader\n",
    "from torchvision.datasets import MNIST\n",
    "import torchvision.transforms as transforms"
   ]
  },
  {
   "cell_type": "code",
   "execution_count": 14,
   "metadata": {},
   "outputs": [
    {
     "name": "stdout",
     "output_type": "stream",
     "text": [
      "tensor([[ 0.5843,  0.9765,  0.9843,  0.9843,  0.9843],\n",
      "        [ 0.9843,  0.9843,  0.9843,  0.9843,  0.9843],\n",
      "        [ 0.9843,  0.9843,  0.9843,  0.9843,  0.8431],\n",
      "        [ 0.9843,  0.9843,  0.1216, -0.2235, -0.7255],\n",
      "        [ 0.9843,  0.2157, -0.9922, -1.0000, -1.0000]])\n"
     ]
    }
   ],
   "source": [
    "transform = transforms.Compose(\n",
    "    [transforms.ToTensor(),\n",
    "     transforms.Normalize((0.5), (0.5))])\n",
    "\n",
    "#Load train and test data\n",
    "train_dataset = MNIST(root='./mnist_data', train=True, download=True, transform=transform)\n",
    "test_dataset = MNIST(root='./mnist_data', train=False, download=True, transform=transform)\n",
    "train_loader = DataLoader(train_dataset, batch_size=128, shuffle=True)\n",
    "test_loader = DataLoader(train_dataset, batch_size=128)\n"
   ]
  },
  {
   "cell_type": "code",
   "execution_count": 27,
   "metadata": {},
   "outputs": [],
   "source": [
    "#Model\n",
    "class Model(nn.Module):\n",
    "    def __init__(self, use_learnable_skip=False):\n",
    "        super().__init__()\n",
    "        self.conv1 = nn.Conv2d(1, 6, 3, padding='same')\n",
    "        self.act1 = nn.LeakyReLU()\n",
    "        self.conv2 = nn.Conv2d(6, 12, 3, padding='same')\n",
    "        self.act2 = nn.LeakyReLU()\n",
    "        self.conv3 = nn.Conv2d(12, 24, 7) #output of size Nx24x22x22\n",
    "        self.act3 = nn.LeakyReLU()\n",
    "        self.pool = nn.MaxPool2d(kernel_size=2, stride=2) #output of size Nx24x11x11\n",
    "        self.conv4 = nn.Conv2d(24, 24, 5) #output of size Nx24x7x7\n",
    "        self.act4 = nn.LeakyReLU()\n",
    "        self.fc = nn.Linear(24*7*7, 10)\n",
    "        self.act_final = nn.LogSoftmax()\n",
    "\n",
    "        self.use_learnable_skip = use_learnable_skip\n",
    "        self.t = nn.Parameter(torch.ones(1) * 0.5)\n",
    "\n",
    "    def forward(self, input):\n",
    "        x = self.conv1(input)\n",
    "        x = self.act1(x)\n",
    "        x = self.conv2(x)\n",
    "        if self.use_learnable_skip:\n",
    "            x = self.act2(x) * self.t + input * (1-self.t)\n",
    "        else:\n",
    "            x = self.act2(x) + input\n",
    "        x = self.conv3(x)\n",
    "        x = self.act3(x)\n",
    "        x = self.pool(x)\n",
    "        x = self.conv4(x)\n",
    "        x = self.act4(x)\n",
    "        x = torch.flatten(x, start_dim=1)\n",
    "        x = self.fc(x)\n",
    "        return self.act_final(x)\n",
    "        "
   ]
  },
  {
   "cell_type": "code",
   "execution_count": 21,
   "metadata": {},
   "outputs": [
    {
     "name": "stderr",
     "output_type": "stream",
     "text": [
      "c:\\Users\\arthu\\AppData\\Local\\Programs\\Python\\Python311\\Lib\\site-packages\\torch\\nn\\modules\\module.py:1518: UserWarning: Implicit dimension choice for log_softmax has been deprecated. Change the call to include dim=X as an argument.\n",
      "  return self._call_impl(*args, **kwargs)\n"
     ]
    },
    {
     "name": "stdout",
     "output_type": "stream",
     "text": [
      "[1,   100] loss: 0.421\n",
      "[1,   200] loss: 0.105\n",
      "[1,   300] loss: 0.085\n",
      "[1,   400] loss: 0.069\n",
      "[2,   100] loss: 0.049\n",
      "[2,   200] loss: 0.048\n",
      "[2,   300] loss: 0.048\n",
      "[2,   400] loss: 0.046\n",
      "[3,   100] loss: 0.033\n",
      "[3,   200] loss: 0.036\n",
      "[3,   300] loss: 0.035\n",
      "[3,   400] loss: 0.033\n"
     ]
    }
   ],
   "source": [
    "model = Model()\n",
    "optimizer = Adam(model.parameters())\n",
    "loss_fct = nn.CrossEntropyLoss()\n",
    "\n",
    "for epoch in range(3):\n",
    "    running_loss = 0.\n",
    "\n",
    "    for i, batch in enumerate(train_loader):\n",
    "        X, y = batch\n",
    "        pred = model(X)\n",
    "        loss = loss_fct(pred, y)\n",
    "        \n",
    "        optimizer.zero_grad()\n",
    "        loss.backward()\n",
    "        optimizer.step()\n",
    "\n",
    "        running_loss += loss.item()\n",
    "        if i % 100 == 99:    # print every 100 mini-batches\n",
    "            print(f'[{epoch + 1}, {i + 1:5d}] loss: {running_loss / 100:.3f}')\n",
    "            running_loss = 0.0"
   ]
  },
  {
   "cell_type": "code",
   "execution_count": 24,
   "metadata": {},
   "outputs": [
    {
     "name": "stderr",
     "output_type": "stream",
     "text": [
      "c:\\Users\\arthu\\AppData\\Local\\Programs\\Python\\Python311\\Lib\\site-packages\\torch\\nn\\modules\\module.py:1518: UserWarning: Implicit dimension choice for log_softmax has been deprecated. Change the call to include dim=X as an argument.\n",
      "  return self._call_impl(*args, **kwargs)\n"
     ]
    },
    {
     "name": "stdout",
     "output_type": "stream",
     "text": [
      "Accuracy on test set: 99.20833333333333%\n"
     ]
    }
   ],
   "source": [
    "correct = 0\n",
    "total = 0\n",
    "with torch.no_grad():\n",
    "    for data in test_loader:\n",
    "        X, y = data\n",
    "        pred = model(X)\n",
    "\n",
    "        _, predicted = torch.max(pred.data, 1)\n",
    "        total += y.size(0)\n",
    "        correct += (predicted == y).sum().item()\n",
    "\n",
    "print(f\"Accuracy on test set: {correct / total * 100}%\")"
   ]
  },
  {
   "cell_type": "code",
   "execution_count": 28,
   "metadata": {},
   "outputs": [
    {
     "name": "stderr",
     "output_type": "stream",
     "text": [
      "c:\\Users\\arthu\\AppData\\Local\\Programs\\Python\\Python311\\Lib\\site-packages\\torch\\nn\\modules\\module.py:1518: UserWarning: Implicit dimension choice for log_softmax has been deprecated. Change the call to include dim=X as an argument.\n",
      "  return self._call_impl(*args, **kwargs)\n"
     ]
    },
    {
     "name": "stdout",
     "output_type": "stream",
     "text": [
      "[1,   100] loss: 0.485\n",
      "[1,   200] loss: 0.121\n",
      "[1,   300] loss: 0.089\n",
      "[1,   400] loss: 0.074\n",
      "[2,   100] loss: 0.056\n",
      "[2,   200] loss: 0.053\n",
      "[2,   300] loss: 0.048\n",
      "[2,   400] loss: 0.047\n",
      "[3,   100] loss: 0.039\n",
      "[3,   200] loss: 0.036\n",
      "[3,   300] loss: 0.029\n",
      "[3,   400] loss: 0.038\n"
     ]
    }
   ],
   "source": [
    "# This cell and the next one are copies of the previous ones but with the extra learnable parameter.\n",
    "\n",
    "model2 = Model(use_learnable_skip=True)\n",
    "optimizer2 = Adam(model2.parameters())\n",
    "loss_fct2 = nn.CrossEntropyLoss()\n",
    "\n",
    "for epoch in range(3):\n",
    "    running_loss = 0.\n",
    "\n",
    "    for i, batch in enumerate(train_loader):\n",
    "        X, y = batch\n",
    "        pred = model2(X)\n",
    "        loss = loss_fct2(pred, y)\n",
    "        \n",
    "        optimizer2.zero_grad()\n",
    "        loss.backward()\n",
    "        optimizer2.step()\n",
    "\n",
    "        running_loss += loss.item()\n",
    "        if i % 100 == 99:    # print every 100 mini-batches\n",
    "            print(f'[{epoch + 1}, {i + 1:5d}] loss: {running_loss / 100:.3f}')\n",
    "            running_loss = 0.0"
   ]
  },
  {
   "cell_type": "code",
   "execution_count": 29,
   "metadata": {},
   "outputs": [
    {
     "name": "stderr",
     "output_type": "stream",
     "text": [
      "c:\\Users\\arthu\\AppData\\Local\\Programs\\Python\\Python311\\Lib\\site-packages\\torch\\nn\\modules\\module.py:1518: UserWarning: Implicit dimension choice for log_softmax has been deprecated. Change the call to include dim=X as an argument.\n",
      "  return self._call_impl(*args, **kwargs)\n"
     ]
    },
    {
     "name": "stdout",
     "output_type": "stream",
     "text": [
      "Accuracy on test set USING OUR AMAZING IDEA: 99.32166666666666%\n"
     ]
    }
   ],
   "source": [
    "correct2 = 0\n",
    "total2 = 0\n",
    "with torch.no_grad():\n",
    "    for data in test_loader:\n",
    "        X, y = data\n",
    "        pred = model2(X)\n",
    "\n",
    "        _, predicted = torch.max(pred.data, 1)\n",
    "        total2 += y.size(0)\n",
    "        correct2 += (predicted == y).sum().item()\n",
    "\n",
    "print(f\"Accuracy on test set USING OUR AMAZING IDEA: {correct2 / total2 * 100}%\")"
   ]
  },
  {
   "cell_type": "code",
   "execution_count": null,
   "metadata": {},
   "outputs": [],
   "source": []
  }
 ],
 "metadata": {
  "kernelspec": {
   "display_name": "Python 3",
   "language": "python",
   "name": "python3"
  },
  "language_info": {
   "codemirror_mode": {
    "name": "ipython",
    "version": 3
   },
   "file_extension": ".py",
   "mimetype": "text/x-python",
   "name": "python",
   "nbconvert_exporter": "python",
   "pygments_lexer": "ipython3",
   "version": "3.11.6"
  }
 },
 "nbformat": 4,
 "nbformat_minor": 2
}
