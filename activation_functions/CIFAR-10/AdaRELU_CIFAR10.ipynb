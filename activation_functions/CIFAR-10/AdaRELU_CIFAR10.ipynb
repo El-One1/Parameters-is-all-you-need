{
 "cells": [
  {
   "cell_type": "code",
   "execution_count": 21,
   "metadata": {},
   "outputs": [
    {
     "ename": "ImportError",
     "evalue": "cannot import name 'Optimizable' from 'gradient_descent_the_ultimate_optimizer' (/home/infres/egardes-21/.local/lib/python3.10/site-packages/gradient_descent_the_ultimate_optimizer/__init__.py)",
     "output_type": "error",
     "traceback": [
      "\u001b[0;31m---------------------------------------------------------------------------\u001b[0m",
      "\u001b[0;31mImportError\u001b[0m                               Traceback (most recent call last)",
      "Cell \u001b[0;32mIn[21], line 10\u001b[0m\n\u001b[1;32m      8\u001b[0m \u001b[38;5;28;01mimport\u001b[39;00m \u001b[38;5;21;01mos\u001b[39;00m\n\u001b[1;32m      9\u001b[0m \u001b[38;5;28;01mimport\u001b[39;00m \u001b[38;5;21;01mgradient_descent_the_ultimate_optimizer\u001b[39;00m \u001b[38;5;28;01mas\u001b[39;00m \u001b[38;5;21;01mgdtuo\u001b[39;00m\n\u001b[0;32m---> 10\u001b[0m \u001b[38;5;28;01mfrom\u001b[39;00m \u001b[38;5;21;01mgradient_descent_the_ultimate_optimizer\u001b[39;00m \u001b[38;5;28;01mimport\u001b[39;00m Optimizable\n\u001b[1;32m     11\u001b[0m \u001b[38;5;28;01mimport\u001b[39;00m \u001b[38;5;21;01mmatplotlib\u001b[39;00m\u001b[38;5;21;01m.\u001b[39;00m\u001b[38;5;21;01mpyplot\u001b[39;00m \u001b[38;5;28;01mas\u001b[39;00m \u001b[38;5;21;01mplt\u001b[39;00m\n\u001b[1;32m     12\u001b[0m \u001b[38;5;28;01mimport\u001b[39;00m \u001b[38;5;21;01mimageio\u001b[39;00m\n",
      "\u001b[0;31mImportError\u001b[0m: cannot import name 'Optimizable' from 'gradient_descent_the_ultimate_optimizer' (/home/infres/egardes-21/.local/lib/python3.10/site-packages/gradient_descent_the_ultimate_optimizer/__init__.py)"
     ]
    }
   ],
   "source": [
    "import math\n",
    "import torch\n",
    "import torchvision\n",
    "import torch.nn as nn\n",
    "import torch.nn.functional as F\n",
    "import time as time\n",
    "import numpy as np\n",
    "import os\n",
    "import matplotlib.pyplot as plt\n",
    "import imageio\n",
    "from IPython.display import Video, Image\n",
    "\n",
    "os.environ[\"CUDA_VISIBLE_DEVICES\"] = \"0\"\n",
    "DEVICE = 'cuda' if torch.cuda.is_available() else 'cpu'\n",
    "print(DEVICE)\n",
    "\n",
    "class AdaRELU(nn.Module):\n",
    "\n",
    "    def __init__(self):\n",
    "        super(AdaRELU, self).__init__()\n",
    "\n",
    "        self.parameters = {'positive_slope': torch.tensor(1., requires_grad=True),\n",
    "                           'negative_slope': torch.tensor(0.1, requires_grad=True)}\n",
    "        self.all_params_with_gradients = [self.parameters['positive_slope'], self.parameters['negative_slope']]\n",
    "        \n",
    "\n",
    "    def forward(self, input):\n",
    "        output = torch.where(input >= 0, input * self.parameters['positive_slope'], input * self.parameters['negative_slope'])\n",
    "        return output\n",
    "\n",
    "\n",
    "adaRELU1 = AdaRELU().to(DEVICE)\n",
    "\"\"\"adaRELU2 = AdaRELU().to(DEVICE)\n",
    "adaRELU3 = AdaRELU().to(DEVICE)\"\"\"\n",
    "\n",
    "class CNN(nn.Module):\n",
    "    def __init__(self):\n",
    "        super(CNN, self).__init__()\n",
    "        self.conv1 = nn.Conv2d(3, 32, kernel_size=3, stride=1, padding=1)\n",
    "        self.conv2 = nn.Conv2d(32, 64, kernel_size=3, stride=1, padding=1)\n",
    "        self.dropout1 = nn.Dropout2d(0.25)\n",
    "        self.dropout2 = nn.Dropout2d(0.5)\n",
    "        self.fc1 = nn.Linear(16384, 128)  # Adjusted input dimensions\n",
    "        self.fc2 = nn.Linear(128, 10)\n",
    "        self.bn1 = nn.BatchNorm2d(3)\n",
    "        self.bn2 = nn.BatchNorm2d(32)\n",
    "        self.bn3 = nn.BatchNorm1d(16384)\n",
    "\n",
    "        self.dict_stats = {}\n",
    "        self.gather_stats = False\n",
    "\n",
    "    def forward(self, x):\n",
    "        x = self.bn1(x)\n",
    "        x = self.conv1(x)\n",
    "        if self.gather_stats:\n",
    "            self.dict_stats['conv1_mean'] = x.clone().detach().cpu().numpy().mean()\n",
    "            self.dict_stats['conv1_std'] = x.clone().detach().cpu().numpy().std()\n",
    "        x = adaRELU1(x)\n",
    "\n",
    "        x = self.bn2(x)\n",
    "        x = self.conv2(x)\n",
    "        if self.gather_stats:\n",
    "            self.dict_stats['conv2_mean'] = x.clone().detach().cpu().numpy().mean()\n",
    "            self.dict_stats['conv2_std'] = x.clone().detach().cpu().numpy().std()\n",
    "        x = adaRELU1(x)\n",
    "        x = F.max_pool2d(x, 2)\n",
    "        x = self.dropout1(x)\n",
    "        x = torch.flatten(x, 1)\n",
    "\n",
    "        x = self.bn3(x)\n",
    "        x = self.fc1(x)\n",
    "        if self.gather_stats:\n",
    "            self.dict_stats['fc1_mean'] = x.clone().detach().cpu().numpy().mean()\n",
    "            self.dict_stats['fc1_std'] = x.clone().detach().cpu().numpy().std()\n",
    "        x = adaRELU1(x)\n",
    "        x = self.dropout2(x)\n",
    "        x = self.fc2(x)\n",
    "        output = F.log_softmax(x, dim=1)\n",
    "        return output\n",
    "\n",
    "BATCH_SIZE = 256\n",
    "\n",
    "dataset_train = torchvision.datasets.CIFAR10('./data_cifar', train=True, download=True, transform=torchvision.transforms.ToTensor())\n",
    "dataset_test = torchvision.datasets.CIFAR10('./data_cifar', train=False, download=True, transform=torchvision.transforms.ToTensor())\n",
    "dl_train = torch.utils.data.DataLoader(dataset_train, batch_size=BATCH_SIZE, shuffle=True)\n",
    "dl_test = torch.utils.data.DataLoader(dataset_test, batch_size=256, shuffle=False)"
   ]
  },
  {
   "cell_type": "code",
   "execution_count": 16,
   "metadata": {},
   "outputs": [
    {
     "data": {
      "text/plain": [
       "'optimAdaRelu2 = torch.optim.Adam(adaRELU2.all_params_with_gradients, lr=0.01)\\noptimAdaRelu3 = torch.optim.Adam(adaRELU3.all_params_with_gradients, lr=0.01)'"
      ]
     },
     "execution_count": 16,
     "metadata": {},
     "output_type": "execute_result"
    }
   ],
   "source": [
    "model = CNN().to(DEVICE)\n",
    "\n",
    "optim = torch.optim.Adam(model.parameters(), lr=0.001)\n",
    "criterion = nn.CrossEntropyLoss()\n",
    "\n",
    "optimAdaRelu1 = torch.optim.Adam(adaRELU1.all_params_with_gradients, lr=0.01)\n",
    "\"\"\"optimAdaRelu2 = torch.optim.Adam(adaRELU2.all_params_with_gradients, lr=0.01)\n",
    "optimAdaRelu3 = torch.optim.Adam(adaRELU3.all_params_with_gradients, lr=0.01)\"\"\""
   ]
  },
  {
   "cell_type": "code",
   "execution_count": 17,
   "metadata": {},
   "outputs": [
    {
     "name": "stderr",
     "output_type": "stream",
     "text": [
      "/home/infres/egardes-21/.local/lib/python3.10/site-packages/torch/nn/functional.py:1331: UserWarning: dropout2d: Received a 2-D input to dropout2d, which is deprecated and will result in an error in a future release. To retain the behavior and silence this warning, please use dropout instead. Note that dropout2d exists to provide channel-wise dropout on inputs with 2 spatial dimensions, a channel dimension, and an optional batch dimension (i.e. 3D or 4D inputs).\n",
      "  warnings.warn(warn_msg)\n"
     ]
    },
    {
     "name": "stdout",
     "output_type": "stream",
     "text": [
      "EPOCH: 1, TRAIN LOSS: 1.481005996170044, ACC: 0.4851\n",
      "EPOCH: 1, TEST ACC: 0.6269\n",
      "\n",
      "EPOCH: 2, TRAIN LOSS: 1.0969895317268372, ACC: 0.61392\n",
      "EPOCH: 2, TEST ACC: 0.6749\n",
      "\n",
      "EPOCH: 3, TRAIN LOSS: 0.9527389910888672, ACC: 0.66662\n",
      "EPOCH: 3, TEST ACC: 0.6907\n",
      "\n",
      "EPOCH: 4, TRAIN LOSS: 0.8571641386222839, ACC: 0.69694\n",
      "EPOCH: 4, TEST ACC: 0.6976\n",
      "\n",
      "EPOCH: 5, TRAIN LOSS: 0.7815189984321594, ACC: 0.725\n",
      "EPOCH: 5, TEST ACC: 0.7072\n",
      "\n",
      "EPOCH: 6, TRAIN LOSS: 0.7082464732170105, ACC: 0.74882\n",
      "EPOCH: 6, TEST ACC: 0.7079\n",
      "\n",
      "EPOCH: 7, TRAIN LOSS: 0.6522045014381409, ACC: 0.76802\n",
      "EPOCH: 7, TEST ACC: 0.7142\n",
      "\n",
      "EPOCH: 8, TRAIN LOSS: 0.5995901018905639, ACC: 0.78654\n",
      "EPOCH: 8, TEST ACC: 0.7097\n",
      "\n",
      "EPOCH: 9, TRAIN LOSS: 0.5522414917755127, ACC: 0.80252\n",
      "EPOCH: 9, TEST ACC: 0.7119\n",
      "\n",
      "EPOCH: 10, TRAIN LOSS: 0.5124345553779602, ACC: 0.81712\n",
      "EPOCH: 10, TEST ACC: 0.7156\n",
      "\n",
      "Time taken: 91.41461443901062\n"
     ]
    }
   ],
   "source": [
    "init_time = time.time()\n",
    "EPOCHS = 10\n",
    "\n",
    "train_loss_list = []\n",
    "train_acc_list = []\n",
    "test_loss_list = []\n",
    "test_acc_list = []\n",
    "\n",
    "for i in range(1, EPOCHS+1):\n",
    "    running_acc = 0.0\n",
    "    running_loss = 0.0\n",
    "    model.train()\n",
    "    for j, (features_, labels_) in enumerate(dl_train):\n",
    "        #mw.begin() # call this before each step, enables gradient tracking on desired params\n",
    "\n",
    "        optim.zero_grad()\n",
    "        features, labels = features_.to(DEVICE), labels_.to(DEVICE)\n",
    "        pred = model.forward(features)\n",
    "        loss = criterion(pred, labels)\n",
    "        #mw.zero_grad()\n",
    "\n",
    "        loss.backward(create_graph=True) # important! use create_graph=True\n",
    "\n",
    "        optimAdaRelu1.step()\n",
    "        \"\"\"optimAdaRelu2.step()\n",
    "        optimAdaRelu3.step()\"\"\"\n",
    "\n",
    "        optimAdaRelu1.zero_grad()\n",
    "        \"\"\"optimAdaRelu2.zero_grad()\n",
    "        optimAdaRelu3.zero_grad()\"\"\"\n",
    "        \n",
    "        optim.step()\n",
    "\n",
    "\n",
    "        running_loss += loss.item() * features_.size(0)\n",
    "        running_acc += (torch.argmax(pred, dim=1) == labels).sum().item()\n",
    "\n",
    "\n",
    "    train_loss = running_loss / len(dl_train.dataset)\n",
    "    train_acc = running_acc / len(dl_train.dataset)\n",
    "    train_loss_list.append(train_loss)\n",
    "    train_acc_list.append(train_acc)\n",
    "\n",
    "    running_acc = 0.0\n",
    "    running_loss = 0.0\n",
    "    with torch.no_grad():\n",
    "        model.eval()\n",
    "        for j, (features_, labels_) in enumerate(dl_test):\n",
    "            features, labels = features_.to(DEVICE), labels_.to(DEVICE)\n",
    "            pred = model.forward(features)\n",
    "            running_acc += (torch.argmax(pred, dim=1) == labels).sum().item()\n",
    "            loss = criterion(pred, labels)\n",
    "            running_loss += loss.item() * features_.size(0)\n",
    "\n",
    "    test_loss = running_loss / len(dl_test.dataset)\n",
    "    test_acc = running_acc / len(dl_test.dataset)\n",
    "    test_loss_list.append(test_loss)\n",
    "    test_acc_list.append(test_acc)\n",
    "    print(\"EPOCH: {}, TRAIN LOSS: {}, ACC: {}\".format(i, train_loss, train_acc))\n",
    "    print(\"EPOCH: {}, TEST ACC: {}\\n\".format(i, test_acc))\n",
    "    \n",
    "print(\"Time taken: {}\".format(time.time() - init_time))"
   ]
  },
  {
   "cell_type": "code",
   "execution_count": 18,
   "metadata": {},
   "outputs": [],
   "source": [
    "# save training and testing statistics in csv\n",
    "path = '../results/CIFAR-10'\n",
    "name = 'adarelu'\n",
    "np.savetxt(path + '/' + name + '_train_loss.csv', train_loss_list, delimiter=',')\n",
    "np.savetxt(path + '/' + name + '_train_acc.csv', train_acc_list, delimiter=',')\n",
    "np.savetxt(path + '/' + name + '_test_loss.csv', test_loss_list, delimiter=',')\n",
    "np.savetxt(path + '/' + name + '_test_acc.csv', test_acc_list, delimiter=',')"
   ]
  },
  {
   "cell_type": "code",
   "execution_count": 19,
   "metadata": {},
   "outputs": [
    {
     "name": "stderr",
     "output_type": "stream",
     "text": [
      "/tmp/ipykernel_986219/4091548010.py:28: DeprecationWarning: Starting with ImageIO v3 the behavior of this function will switch to that of iio.v3.imread. To keep the current behavior (and make this warning disappear) use `import imageio.v2 as imageio` or call `imageio.v2.imread` directly.\n",
      "  imageio.mimsave(video, [imageio.imread('plots/{}.png'.format(i)) for i in range(len(negative_slopes_encountered1))], fps = 3)\n"
     ]
    },
    {
     "data": {
      "text/html": [
       "<video src=\"./adaRELU.mp4\" controls  >\n",
       "      Your browser does not support the <code>video</code> element.\n",
       "    </video>"
      ],
      "text/plain": [
       "<IPython.core.display.Video object>"
      ]
     },
     "execution_count": 19,
     "metadata": {},
     "output_type": "execute_result"
    }
   ],
   "source": [
    "for i in range(len(negative_slopes_encountered1)):\n",
    "    x = np.linspace(-10, 10, 100)\n",
    "    y_baseline = np.where(x >= 0, x, 0.1*x)\n",
    "    y1 = np.where(x >= 0, x * positive_slopes_encountered1[i], x * negative_slopes_encountered1[i])\n",
    "    y2 = np.where(x >= 0, x * positive_slopes_encountered2[i], x * negative_slopes_encountered2[i])\n",
    "    y3 = np.where(x >= 0, x * positive_slopes_encountered3[i], x * negative_slopes_encountered3[i])\n",
    "    fig, ax = plt.subplots()\n",
    "    ax.plot(x, y_baseline)\n",
    "    ax.plot(x, y1)\n",
    "    ax.plot(x, y2)\n",
    "    ax.plot(x, y3)\n",
    "    # set small cross at 0.0\n",
    "    ax.plot([0.0], [0.0], 'x', color='red')\n",
    "    ax.set_title('AdaRELU on all activations for CIFAR10 beats GeLU and ReLU')\n",
    "    ax.set_xlabel('x')\n",
    "    ax.set_ylabel('y')\n",
    "\n",
    "    ax.legend(['baseline (leaky-relu)', 'adarelu 1', 'adarelu 2', 'adarelu 3'])\n",
    "    ax.set_xlim([-10, 10])\n",
    "    ax.set_ylim([-3, 10])\n",
    "    ax.grid()\n",
    "\n",
    "    os.makedirs('plots', exist_ok=True)\n",
    "    plt.savefig('plots/{}.png'.format(i))\n",
    "    plt.close()\n",
    "\n",
    "video = './adaRELU.mp4'\n",
    "imageio.mimsave(video, [imageio.imread('plots/{}.png'.format(i)) for i in range(len(negative_slopes_encountered1))], fps = 3)\n",
    "#play it here\n",
    "Video(video)"
   ]
  }
 ],
 "metadata": {
  "kernelspec": {
   "display_name": "Python 3",
   "language": "python",
   "name": "python3"
  },
  "language_info": {
   "codemirror_mode": {
    "name": "ipython",
    "version": 3
   },
   "file_extension": ".py",
   "mimetype": "text/x-python",
   "name": "python",
   "nbconvert_exporter": "python",
   "pygments_lexer": "ipython3",
   "version": "3.10.12"
  }
 },
 "nbformat": 4,
 "nbformat_minor": 2
}
