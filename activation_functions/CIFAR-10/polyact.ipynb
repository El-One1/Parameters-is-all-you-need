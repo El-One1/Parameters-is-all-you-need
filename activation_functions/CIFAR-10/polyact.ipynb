{
 "cells": [
  {
   "cell_type": "code",
   "execution_count": 1,
   "metadata": {},
   "outputs": [
    {
     "name": "stderr",
     "output_type": "stream",
     "text": [
      "/home/infres/egardes-21/.local/lib/python3.10/site-packages/torch/autograd/__init__.py:200: UserWarning: Using backward() with create_graph=True will create a reference cycle between the parameter and its gradient which can cause a memory leak. We recommend using autograd.grad when creating the graph to avoid this. If you have to use this function, make sure to reset the .grad fields of your parameters to None after use to break the cycle and avoid the leak. (Triggered internally at ../torch/csrc/autograd/engine.cpp:1151.)\n",
      "  Variable._execution_engine.run_backward(  # Calls into the C++ engine to run the backward pass\n"
     ]
    },
    {
     "name": "stdout",
     "output_type": "stream",
     "text": [
      "(<poly_fit_relu.PolyAct object at 0x7f9967ca40a0>, tensor([ 3.7504e-01,  5.0000e-01,  1.1718e-01, -3.1369e-08]))\n",
      "cuda\n",
      "Files already downloaded and verified\n",
      "Files already downloaded and verified\n"
     ]
    }
   ],
   "source": [
    "import math\n",
    "import torch\n",
    "import torchvision\n",
    "import torch.nn as nn\n",
    "import torch.nn.functional as F\n",
    "import time as time\n",
    "import numpy as np\n",
    "from gradient_descent_the_ultimate_optimizer import gdtuo\n",
    "from gradient_descent_the_ultimate_optimizer.gdtuo import Optimizable\n",
    "import os\n",
    "import matplotlib.pyplot as plt\n",
    "import imageio\n",
    "from IPython.display import Video, Image\n",
    "from poly_fit_relu import train_poly_fit_relu as pfr\n",
    "from poly_fit_relu import plot_poly_fit_relu as ppfr\n",
    "\n",
    "os.environ[\"CUDA_VISIBLE_DEVICES\"] = \"0\"\n",
    "\n",
    "class MNIST_CNN(nn.Module):\n",
    "    def __init__(self, poly_act1, poly2, poly3):\n",
    "        super(MNIST_CNN, self).__init__()\n",
    "        self.conv1 = nn.Conv2d(3, 32, kernel_size=3, stride=1, padding=1)\n",
    "        self.conv2 = nn.Conv2d(32, 64, kernel_size=3, stride=1, padding=1)\n",
    "        self.dropout1 = nn.Dropout2d(0.25)\n",
    "        self.dropout2 = nn.Dropout2d(0.5)\n",
    "        self.fc1 = nn.Linear(16384, 128)  # Adjusted input dimensions\n",
    "        self.fc2 = nn.Linear(128, 10)\n",
    "        self.bn1 = nn.BatchNorm2d(3)\n",
    "        self.bn2 = nn.BatchNorm2d(32)\n",
    "        self.bn3 = nn.BatchNorm1d(16384)\n",
    "\n",
    "        self.poly_act1 = poly_act1\n",
    "        self.poly2 = poly2\n",
    "        self.poly3 = poly3\n",
    "        self.dict_stats = {}\n",
    "        self.gather_stats = False\n",
    "\n",
    "    def forward(self, x):\n",
    "        x = self.bn1(x)\n",
    "        x = self.conv1(x)\n",
    "        if self.gather_stats:\n",
    "            self.dict_stats['conv1_mean'] = x.clone().detach().cpu().numpy().mean()\n",
    "            self.dict_stats['conv1_std'] = x.clone().detach().cpu().numpy().std()\n",
    "        x = self.poly_act1(x)\n",
    "\n",
    "        x = self.bn2(x)\n",
    "        x = self.conv2(x)\n",
    "        if self.gather_stats:\n",
    "            self.dict_stats['conv2_mean'] = x.clone().detach().cpu().numpy().mean()\n",
    "            self.dict_stats['conv2_std'] = x.clone().detach().cpu().numpy().std()\n",
    "        x = self.poly2(x)\n",
    "        x = F.max_pool2d(x, 2)\n",
    "        x = self.dropout1(x)\n",
    "        x = torch.flatten(x, 1)\n",
    "\n",
    "        x = self.bn3(x)\n",
    "        x = self.fc1(x)\n",
    "        if self.gather_stats:\n",
    "            self.dict_stats['fc1_mean'] = x.clone().detach().cpu().numpy().mean()\n",
    "            self.dict_stats['fc1_std'] = x.clone().detach().cpu().numpy().std()\n",
    "        x = self.poly3(x)\n",
    "        x = self.dropout2(x)\n",
    "        x = self.fc2(x)\n",
    "        output = F.log_softmax(x, dim=1)\n",
    "        return output\n",
    "\n",
    "BATCH_SIZE = 256\n",
    "DEVICE = 'cuda' if torch.cuda.is_available() else 'cpu'\n",
    "print(DEVICE)\n",
    "\n",
    "dataset_train = torchvision.datasets.CIFAR10('./data_cifar', train=True, download=True, transform=torchvision.transforms.ToTensor())\n",
    "dataset_test = torchvision.datasets.CIFAR10('./data_cifar', train=False, download=True, transform=torchvision.transforms.ToTensor())\n",
    "dl_train = torch.utils.data.DataLoader(dataset_train, batch_size=BATCH_SIZE, shuffle=True)\n",
    "dl_test = torch.utils.data.DataLoader(dataset_test, batch_size=256, shuffle=False)"
   ]
  },
  {
   "cell_type": "code",
   "execution_count": 2,
   "metadata": {},
   "outputs": [],
   "source": [
    "class PolyAct(Optimizable):\n",
    "        def __init__(self, optimizer, coefs = torch.zeros(6)):\n",
    "            self.n = coefs.shape[0]\n",
    "            self.coefs = nn.Parameter(coefs)\n",
    "            self.parameters = {'coefs': self.coefs}\n",
    "            self.optimizer = optimizer\n",
    "            self.all_params_with_gradients = [self.parameters['coefs']]\n",
    "            super().__init__(self.parameters, self.optimizer)\n",
    "\n",
    "        def __call__(self, x):\n",
    "            out = 0\n",
    "            for i in range(self.n):\n",
    "                out += self.parameters['coefs'][i] * x ** i\n",
    "            return out\n",
    "        \n",
    "        def step(self):\n",
    "            self.optimizer.step(self.parameters)\n",
    "\n",
    "\n",
    "poly_act1, coefs_init = pfr(4)\n",
    "poly2, _ = pfr(4)\n",
    "poly3, _ = pfr(4)\n",
    "poly_act_init = PolyAct(gdtuo.Adam(0.0001), coefs_init)\n",
    "poly_act1.optimizer = gdtuo.Adam(0.001)\n",
    "poly2.optimizer = gdtuo.Adam(0.001)\n",
    "poly3.optimizer = gdtuo.Adam(0.001)\n",
    "\n",
    "poly_act1.initialize()\n",
    "poly2.initialize()\n",
    "poly3.initialize()\n",
    "\n",
    "model = MNIST_CNN(poly_act1, poly2, poly3).to(DEVICE)\n",
    "optim = torch.optim.Adam(model.parameters(), lr=0.001)"
   ]
  },
  {
   "cell_type": "code",
   "execution_count": 3,
   "metadata": {},
   "outputs": [
    {
     "name": "stdout",
     "output_type": "stream",
     "text": [
      "coefs so far tensor([ 3.7504e-01,  5.0000e-01,  1.1718e-01, -3.1369e-08])\n"
     ]
    },
    {
     "name": "stderr",
     "output_type": "stream",
     "text": [
      "/home/infres/egardes-21/.local/lib/python3.10/site-packages/torch/nn/functional.py:1331: UserWarning: dropout2d: Received a 2-D input to dropout2d, which is deprecated and will result in an error in a future release. To retain the behavior and silence this warning, please use dropout instead. Note that dropout2d exists to provide channel-wise dropout on inputs with 2 spatial dimensions, a channel dimension, and an optional batch dimension (i.e. 3D or 4D inputs).\n",
      "  warnings.warn(warn_msg)\n"
     ]
    },
    {
     "name": "stdout",
     "output_type": "stream",
     "text": [
      "coefs so far tensor([ 0.3750,  0.4378,  0.1392, -0.0667])\n",
      "EPOCH: 1, TRAIN LOSS: 1.7395512361907959, ACC: 0.42018\n",
      "EPOCH: 1, TEST ACC: 0.5917\n",
      "\n",
      "coefs so far tensor([ 0.3750,  0.3658,  0.1379, -0.1109])\n",
      "coefs so far tensor([ 0.3751,  0.3442,  0.1464, -0.1217])\n",
      "EPOCH: 2, TRAIN LOSS: 1.1689998084259032, ACC: 0.58892\n",
      "EPOCH: 2, TEST ACC: 0.6547\n",
      "\n",
      "coefs so far tensor([ 0.3751,  0.3222,  0.1592, -0.1336])\n",
      "coefs so far tensor([ 0.3751,  0.3203,  0.1618, -0.1348])\n",
      "EPOCH: 3, TRAIN LOSS: 1.0174419497871399, ACC: 0.64468\n",
      "EPOCH: 3, TEST ACC: 0.68\n",
      "\n",
      "coefs so far tensor([ 0.3751,  0.3130,  0.1635, -0.1407])\n",
      "coefs so far tensor([ 0.3751,  0.3108,  0.1700, -0.1404])\n",
      "EPOCH: 4, TRAIN LOSS: 0.9159049110412598, ACC: 0.68076\n",
      "EPOCH: 4, TEST ACC: 0.6888\n",
      "\n",
      "coefs so far tensor([ 0.3750,  0.3074,  0.1786, -0.1434])\n",
      "coefs so far tensor([ 0.3750,  0.3068,  0.1747, -0.1463])\n",
      "EPOCH: 5, TRAIN LOSS: 0.8001279209136963, ACC: 0.71754\n",
      "EPOCH: 5, TEST ACC: 0.6885\n",
      "\n",
      "coefs so far tensor([ 0.3751,  0.3062,  0.1805, -0.1440])\n",
      "coefs so far tensor([ 0.3752,  0.3050,  0.1828, -0.1443])\n",
      "EPOCH: 6, TRAIN LOSS: 0.7093738924789429, ACC: 0.75088\n",
      "EPOCH: 6, TEST ACC: 0.7039\n",
      "\n",
      "coefs so far tensor([ 0.3752,  0.3029,  0.1819, -0.1475])\n",
      "coefs so far tensor([ 0.3754,  0.3101,  0.1741, -0.1424])\n",
      "EPOCH: 7, TRAIN LOSS: 0.7412063083839416, ACC: 0.75056\n",
      "EPOCH: 7, TEST ACC: 0.7039\n",
      "\n",
      "coefs so far tensor([ 0.3755,  0.3095,  0.1777, -0.1438])\n",
      "coefs so far tensor([ 0.3755,  0.3067,  0.1817, -0.1456])\n",
      "EPOCH: 8, TRAIN LOSS: 0.5764150177955627, ACC: 0.796\n",
      "EPOCH: 8, TEST ACC: 0.7122\n",
      "\n",
      "coefs so far tensor([ 0.3756,  0.3066,  0.1806, -0.1468])\n",
      "coefs so far tensor([ 0.3754,  0.3035,  0.1845, -0.1489])\n",
      "EPOCH: 9, TRAIN LOSS: 0.5197000792217255, ACC: 0.81838\n",
      "EPOCH: 9, TEST ACC: 0.7134\n",
      "\n",
      "coefs so far tensor([ 0.3754,  0.3013,  0.1831, -0.1535])\n",
      "coefs so far tensor([ 0.3759,  0.3006,  0.1853, -0.1533])\n",
      "EPOCH: 10, TRAIN LOSS: 0.4738557981491089, ACC: 0.83162\n",
      "EPOCH: 10, TEST ACC: 0.708\n",
      "\n",
      "Time taken: 112.38783288002014\n"
     ]
    }
   ],
   "source": [
    "init_time = time.time()\n",
    "EPOCHS = 10\n",
    "coefs_list = [coefs_init.detach().cpu().numpy()]\n",
    "for i in range(1, EPOCHS+1):\n",
    "    running_acc = 0.0\n",
    "    running_loss = 0.0\n",
    "    model.train()\n",
    "    for j, (features_, labels_) in enumerate(dl_train):\n",
    "\n",
    "        if j % 100 == 0:\n",
    "            print('coefs so far', poly_act1.parameters['coefs'].detach())\n",
    "            coefs_list.append(poly_act1.parameters['coefs'].detach().cpu().numpy())\n",
    "        poly_act1.begin()\n",
    "        poly2.begin()\n",
    "        poly3.begin()\n",
    "        optim.zero_grad()\n",
    "        poly_act1.zero_grad()\n",
    "        poly2.zero_grad()\n",
    "        poly3.zero_grad()\n",
    "        features, labels = features_.to(DEVICE), labels_.to(DEVICE)\n",
    "        pred = model.forward(features)\n",
    "        loss = F.nll_loss(pred, labels)\n",
    "        loss.backward(create_graph=True)\n",
    "\n",
    "        optim.step()\n",
    "        poly_act1.step()\n",
    "        poly2.step()\n",
    "        poly3.step()\n",
    "        running_loss += loss.item() * features_.size(0)\n",
    "        running_acc += (torch.argmax(pred, dim=1) == labels).sum().item()\n",
    "    train_loss = running_loss / len(dl_train.dataset)\n",
    "    train_acc = running_acc / len(dl_train.dataset)\n",
    "\n",
    "    running_acc = 0.0\n",
    "    with torch.no_grad():\n",
    "        model.eval()\n",
    "        for j, (features_, labels_) in enumerate(dl_test):\n",
    "            features, labels = features_.to(DEVICE), labels_.to(DEVICE)\n",
    "            pred = model.forward(features)\n",
    "            running_acc += (torch.argmax(pred, dim=1) == labels).sum().item()\n",
    "\n",
    "    test_acc = running_acc / len(dl_test.dataset)\n",
    "    print(\"EPOCH: {}, TRAIN LOSS: {}, ACC: {}\".format(i, train_loss, train_acc))\n",
    "    print(\"EPOCH: {}, TEST ACC: {}\\n\".format(i, test_acc))\n",
    "\n",
    "print(\"Time taken: {}\".format(time.time() - init_time))"
   ]
  },
  {
   "cell_type": "code",
   "execution_count": 4,
   "metadata": {},
   "outputs": [
    {
     "name": "stderr",
     "output_type": "stream",
     "text": [
      "/tmp/ipykernel_110958/568224261.py:21: DeprecationWarning: Starting with ImageIO v3 the behavior of this function will switch to that of iio.v3.imread. To keep the current behavior (and make this warning disappear) use `import imageio.v2 as imageio` or call `imageio.v2.imread` directly.\n",
      "  imageio.mimsave(video, [imageio.imread('plots/{}.png'.format(i)) for i in range(len(coefs_list))], fps = 3)\n"
     ]
    },
    {
     "data": {
      "text/html": [
       "<video src=\"./polyact.mp4\" controls  >\n",
       "      Your browser does not support the <code>video</code> element.\n",
       "    </video>"
      ],
      "text/plain": [
       "<IPython.core.display.Video object>"
      ]
     },
     "execution_count": 4,
     "metadata": {},
     "output_type": "execute_result"
    }
   ],
   "source": [
    "x = np.linspace(-4, 4, 1000)\n",
    "\n",
    "for i in range(len(coefs_list)):\n",
    "    curr_poly_act = PolyAct(gdtuo.Adam(0.001), torch.tensor(coefs_list[i]))\n",
    "    y = curr_poly_act(torch.tensor(x)).detach()\n",
    "\n",
    "    fig, ax = plt.subplots()\n",
    "    ax.plot(x, y)\n",
    "    ax.plot(x, np.maximum(x, 0))\n",
    "    # set small cross at 0.0\n",
    "    ax.plot([0.0], [0.0], 'x', color='red')\n",
    "\n",
    "    ax.set_xlim([-4, 4])\n",
    "    ax.set_ylim([-10, 10])\n",
    "    ax.set_yscale('linear')\n",
    "    os.makedirs('plots', exist_ok=True)\n",
    "    plt.savefig('plots/{}.png'.format(i))\n",
    "    plt.close()\n",
    "\n",
    "video = './polyact.mp4'\n",
    "imageio.mimsave(video, [imageio.imread('plots/{}.png'.format(i)) for i in range(len(coefs_list))], fps = 3)\n",
    "#play it here\n",
    "Video(video)"
   ]
  },
  {
   "cell_type": "code",
   "execution_count": 5,
   "metadata": {},
   "outputs": [
    {
     "name": "stdout",
     "output_type": "stream",
     "text": [
      "tensor(2.9783, device='cuda:0')\n"
     ]
    }
   ],
   "source": [
    "mean_weight_CNN = 0\n",
    "std_weight_CNN = 0\n",
    "\n",
    "for name, param in model.named_parameters():\n",
    "    if 'weight' in name:\n",
    "        mean_weight_CNN += param.data.mean()\n",
    "        \n",
    "print(mean_weight_CNN) \n"
   ]
  }
 ],
 "metadata": {
  "kernelspec": {
   "display_name": "Python 3",
   "language": "python",
   "name": "python3"
  },
  "language_info": {
   "codemirror_mode": {
    "name": "ipython",
    "version": 3
   },
   "file_extension": ".py",
   "mimetype": "text/x-python",
   "name": "python",
   "nbconvert_exporter": "python",
   "pygments_lexer": "ipython3",
   "version": "3.10.12"
  }
 },
 "nbformat": 4,
 "nbformat_minor": 2
}
