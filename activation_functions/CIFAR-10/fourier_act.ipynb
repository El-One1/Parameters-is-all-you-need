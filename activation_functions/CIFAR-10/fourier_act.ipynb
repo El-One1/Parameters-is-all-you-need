{
 "cells": [
  {
   "cell_type": "code",
   "execution_count": 39,
   "metadata": {},
   "outputs": [
    {
     "name": "stdout",
     "output_type": "stream",
     "text": [
      "Sat Jan  6 14:46:09 2024       \n",
      "+---------------------------------------------------------------------------------------+\n",
      "| NVIDIA-SMI 545.23.08              Driver Version: 545.23.08    CUDA Version: 12.3     |\n",
      "|-----------------------------------------+----------------------+----------------------+\n",
      "| GPU  Name                 Persistence-M | Bus-Id        Disp.A | Volatile Uncorr. ECC |\n",
      "| Fan  Temp   Perf          Pwr:Usage/Cap |         Memory-Usage | GPU-Util  Compute M. |\n",
      "|                                         |                      |               MIG M. |\n",
      "|=========================================+======================+======================|\n",
      "|   0  NVIDIA A100-PCIE-40GB          On  | 00000000:27:00.0 Off |                    0 |\n",
      "| N/A   34C    P0              37W / 250W |  36359MiB / 40960MiB |      0%      Default |\n",
      "|                                         |                      |             Disabled |\n",
      "+-----------------------------------------+----------------------+----------------------+\n",
      "|   1  NVIDIA A100-PCIE-40GB          On  | 00000000:A3:00.0 Off |                    0 |\n",
      "| N/A   31C    P0              37W / 250W |  36229MiB / 40960MiB |      0%      Default |\n",
      "|                                         |                      |             Disabled |\n",
      "+-----------------------------------------+----------------------+----------------------+\n",
      "|   2  NVIDIA A100-PCIE-40GB          On  | 00000000:C3:00.0 Off |                    0 |\n",
      "| N/A   57C    P0             248W / 250W |  34097MiB / 40960MiB |     19%      Default |\n",
      "|                                         |                      |             Disabled |\n",
      "+-----------------------------------------+----------------------+----------------------+\n",
      "                                                                                         \n",
      "+---------------------------------------------------------------------------------------+\n",
      "| Processes:                                                                            |\n",
      "|  GPU   GI   CI        PID   Type   Process name                            GPU Memory |\n",
      "|        ID   ID                                                             Usage      |\n",
      "|=======================================================================================|\n",
      "|    0   N/A  N/A    454306      C   /bin/python3                              36346MiB |\n",
      "|    1   N/A  N/A    454306      C   /bin/python3                              36216MiB |\n",
      "|    2   N/A  N/A     36145      C   ...bera/anaconda3/envs/test/bin/python    34084MiB |\n",
      "+---------------------------------------------------------------------------------------+\n"
     ]
    }
   ],
   "source": [
    "!nvidia-smi"
   ]
  },
  {
   "cell_type": "code",
   "execution_count": 40,
   "metadata": {},
   "outputs": [],
   "source": [
    "!kill 454306                  "
   ]
  },
  {
   "cell_type": "code",
   "execution_count": 1,
   "metadata": {},
   "outputs": [
    {
     "name": "stdout",
     "output_type": "stream",
     "text": [
      "cuda\n",
      "Files already downloaded and verified\n",
      "Files already downloaded and verified\n"
     ]
    }
   ],
   "source": [
    "import math\n",
    "import torch\n",
    "import torchvision\n",
    "import torch.nn as nn\n",
    "import torch.nn.functional as F\n",
    "import time as time\n",
    "import numpy as np\n",
    "from gradient_descent_the_ultimate_optimizer import gdtuo\n",
    "from gradient_descent_the_ultimate_optimizer.gdtuo import Optimizable\n",
    "import os\n",
    "import matplotlib.pyplot as plt\n",
    "import imageio\n",
    "from IPython.display import Video, Image\n",
    "from fourier_fit_relu import train_fourier_fit_relu as ffr\n",
    "from fourier_fit_relu import plot_fourier_fit_relu as pffr\n",
    "\n",
    "os.environ[\"CUDA_VISIBLE_DEVICES\"] = \"0\"\n",
    "\n",
    "class MNIST_CNN(nn.Module):\n",
    "    def __init__(self, fourier_act):\n",
    "        super(MNIST_CNN, self).__init__()\n",
    "        self.conv1 = nn.Conv2d(3, 32, kernel_size=3, stride=1, padding=1)\n",
    "        self.conv2 = nn.Conv2d(32, 64, kernel_size=3, stride=1, padding=1)\n",
    "        self.dropout1 = nn.Dropout2d(0.25)\n",
    "        self.dropout2 = nn.Dropout2d(0.5)\n",
    "        self.fc1 = nn.Linear(16384, 128)  # Adjusted input dimensions\n",
    "        self.fc2 = nn.Linear(128, 10)\n",
    "        self.bn1 = nn.BatchNorm2d(3)\n",
    "        self.bn2 = nn.BatchNorm2d(32)\n",
    "        self.bn3 = nn.BatchNorm1d(16384)\n",
    "\n",
    "        self.fourier_act = fourier_act\n",
    "        self.gather_stats = False\n",
    "\n",
    "    def forward(self, x):\n",
    "        x = self.bn1(x)\n",
    "        x = self.conv1(x)\n",
    "\n",
    "        x = self.fourier_act(x)\n",
    "\n",
    "        x = self.bn2(x)\n",
    "        x = self.conv2(x)\n",
    "\n",
    "        x = self.fourier_act(x)\n",
    "        x = F.max_pool2d(x, 2)\n",
    "        x = self.dropout1(x)\n",
    "        x = torch.flatten(x, 1)\n",
    "\n",
    "        x = self.bn3(x)\n",
    "        x = self.fc1(x)\n",
    "\n",
    "        x = F.gelu(x)\n",
    "        x = self.dropout2(x)\n",
    "        x = self.fc2(x)\n",
    "        output = F.log_softmax(x, dim=1)\n",
    "        return output\n",
    "\n",
    "BATCH_SIZE = 256\n",
    "DEVICE = 'cuda' if torch.cuda.is_available() else 'cpu'\n",
    "print(DEVICE)\n",
    "\n",
    "dataset_train = torchvision.datasets.CIFAR10('./data_cifar', train=True, download=True, transform=torchvision.transforms.ToTensor())\n",
    "dataset_test = torchvision.datasets.CIFAR10('./data_cifar', train=False, download=True, transform=torchvision.transforms.ToTensor())\n",
    "dl_train = torch.utils.data.DataLoader(dataset_train, batch_size=BATCH_SIZE, shuffle=True)\n",
    "dl_test = torch.utils.data.DataLoader(dataset_test, batch_size=256, shuffle=False)"
   ]
  },
  {
   "cell_type": "code",
   "execution_count": 2,
   "metadata": {},
   "outputs": [
    {
     "data": {
      "image/png": "[encoded data removed]",
      "text/plain": [
       "<Figure size 500x500 with 1 Axes>"
      ]
     },
     "metadata": {},
     "output_type": "display_data"
    }
   ],
   "source": [
    "torch.cuda.empty_cache()\n",
    "class FourierAct(Optimizable):\n",
    "    def __init__(self, optimizer, parameters):\n",
    "\n",
    "        self.rank = parameters['Acoeffs'].shape[0] -1\n",
    "        self.optimizer = optimizer\n",
    "\n",
    "        self.parameters = parameters\n",
    "        self.all_params_with_gradients = [self.parameters['Acoeffs'], self.parameters['Bcoeffs'], self.parameters['period']]\n",
    "        super().__init__(self.parameters, self.optimizer)\n",
    "\n",
    "    def __call__(self, x):\n",
    "\n",
    "        out = self.parameters['Acoeffs'][0] * torch.ones_like(x)\n",
    "\n",
    "        for i in range (1, self.rank + 1):\n",
    "            out += self.parameters['Acoeffs'][i] * torch.cos(2 * math.pi * i * x / self.parameters['period']) + self.parameters['Bcoeffs'][i - 1] * torch.sin(2 * math.pi * i * x / self.parameters['period'])\n",
    "\n",
    "        return out\n",
    "    \n",
    "    def step(self):\n",
    "        self.optimizer.step(self.parameters)\n",
    "\n",
    "class Fourier_Act_torch(nn.Module):\n",
    "    def __init__(self, rank = 5, parameters = None):\n",
    "        super(Fourier_Act_torch, self).__init__()\n",
    "        self.rank = rank\n",
    "        self.Acoeffs = nn.Parameter(torch.randn(self.rank + 1))\n",
    "        self.Bcoeffs = nn.Parameter(torch.randn(self.rank))\n",
    "        self.period = nn.Parameter(torch.tensor(6*math.pi))\n",
    "        if parameters is not None:\n",
    "            self.Acoeffs = nn.Parameter(parameters['Acoeffs'])\n",
    "            self.Bcoeffs = nn.Parameter(parameters['Bcoeffs'])\n",
    "            self.period = nn.Parameter(parameters['period'])\n",
    "\n",
    "        self.params = {'Acoeffs': self.Acoeffs, 'Bcoeffs': self.Bcoeffs, 'period': self.period}\n",
    "\n",
    "    def forward(self, x):\n",
    "        out = self.Acoeffs[0] * torch.ones_like(x)\n",
    "\n",
    "        for i in range (1, self.rank + 1):\n",
    "            out += self.Acoeffs[i] * torch.cos(2 * math.pi * i * x / self.period) + self.Bcoeffs[i - 1] * torch.sin(2 * math.pi * i * x / self.period)\n",
    "\n",
    "        return out\n",
    "\n",
    "mode = 'torch' # 'gdtuo' or 'torch'\n",
    "fourier_act = Fourier_Act_torch(6)\n",
    "parameters_init = {'Acoeffs': fourier_act.Acoeffs, 'Bcoeffs': fourier_act.Bcoeffs, 'period': fourier_act.period} \n",
    "fourier_act_init = Fourier_Act_torch(6, parameters_init)\n",
    "\n",
    "if mode == 'gdtuo':\n",
    "    fourier_act.initialize()\n",
    "\n",
    "model = MNIST_CNN(fourier_act).to(DEVICE)\n",
    "\n",
    "optim = torch.optim.Adam(model.parameters(), lr=0.003)\n",
    "criterion = nn.CrossEntropyLoss()\n",
    "pffr(fourier_act_init)"
   ]
  },
  {
   "cell_type": "code",
   "execution_count": 3,
   "metadata": {},
   "outputs": [
    {
     "name": "stderr",
     "output_type": "stream",
     "text": [
      "/home/infres/egardes-21/.local/lib/python3.10/site-packages/torch/nn/functional.py:1331: UserWarning: dropout2d: Received a 2-D input to dropout2d, which is deprecated and will result in an error in a future release. To retain the behavior and silence this warning, please use dropout instead. Note that dropout2d exists to provide channel-wise dropout on inputs with 2 spatial dimensions, a channel dimension, and an optional batch dimension (i.e. 3D or 4D inputs).\n",
      "  warnings.warn(warn_msg)\n",
      "/home/infres/egardes-21/.local/lib/python3.10/site-packages/torch/autograd/__init__.py:200: UserWarning: Using backward() with create_graph=True will create a reference cycle between the parameter and its gradient which can cause a memory leak. We recommend using autograd.grad when creating the graph to avoid this. If you have to use this function, make sure to reset the .grad fields of your parameters to None after use to break the cycle and avoid the leak. (Triggered internally at ../torch/csrc/autograd/engine.cpp:1151.)\n",
      "  Variable._execution_engine.run_backward(  # Calls into the C++ engine to run the backward pass\n"
     ]
    },
    {
     "name": "stdout",
     "output_type": "stream",
     "text": [
      "EPOCH: 1, TRAIN LOSS: 1.8455631005477906, ACC: 0.3736\n",
      "EPOCH: 1, TEST ACC: 0.4351\n",
      "\n",
      "EPOCH: 2, TRAIN LOSS: 1.537383788986206, ACC: 0.44824\n",
      "EPOCH: 2, TEST ACC: 0.4465\n",
      "\n",
      "EPOCH: 3, TRAIN LOSS: 1.4842473398208618, ACC: 0.46928\n",
      "EPOCH: 3, TEST ACC: 0.4638\n",
      "\n",
      "EPOCH: 4, TRAIN LOSS: 1.4273862119293212, ACC: 0.49356\n",
      "EPOCH: 4, TEST ACC: 0.4811\n",
      "\n",
      "EPOCH: 5, TRAIN LOSS: 1.3700608841323854, ACC: 0.51572\n",
      "EPOCH: 5, TEST ACC: 0.4977\n",
      "\n",
      "EPOCH: 6, TRAIN LOSS: 1.3190011754226685, ACC: 0.53744\n",
      "EPOCH: 6, TEST ACC: 0.5255\n",
      "\n",
      "EPOCH: 7, TRAIN LOSS: 1.2553473001098632, ACC: 0.55772\n",
      "EPOCH: 7, TEST ACC: 0.5264\n",
      "\n",
      "EPOCH: 8, TRAIN LOSS: 1.213182589263916, ACC: 0.57578\n",
      "EPOCH: 8, TEST ACC: 0.5341\n",
      "\n",
      "EPOCH: 9, TRAIN LOSS: 1.1680666721725463, ACC: 0.59212\n",
      "EPOCH: 9, TEST ACC: 0.5395\n",
      "\n",
      "EPOCH: 10, TRAIN LOSS: 1.1169729308319092, ACC: 0.60926\n",
      "EPOCH: 10, TEST ACC: 0.5587\n",
      "\n",
      "Time taken: 198.42424702644348\n"
     ]
    }
   ],
   "source": [
    "init_time = time.time()\n",
    "EPOCHS = 10\n",
    "A_list = [parameters_init['Acoeffs'].detach().cpu().numpy()]\n",
    "B_list = [parameters_init['Bcoeffs'].detach().cpu().numpy()]\n",
    "period_list = [parameters_init['period'].detach().cpu().numpy()]\n",
    "\n",
    "for i in range(1, EPOCHS+1):\n",
    "    running_acc = 0.0\n",
    "    running_loss = 0.0\n",
    "    for j, (features_, labels_) in enumerate(dl_train):\n",
    "\n",
    "        if j % 50 == 0:\n",
    "            if mode == 'torch':\n",
    "                params = model.fourier_act.params\n",
    "            else:\n",
    "                params = fourier_act.parameters\n",
    "\n",
    "            A_list.append(params['Acoeffs'].detach().cpu().numpy())\n",
    "            B_list.append(params['Bcoeffs'].detach().cpu().numpy())\n",
    "            period_list.append(params['period'].detach().cpu().numpy())\n",
    "\n",
    "        if mode == 'gdtuo':\n",
    "            fourier_act.begin()\n",
    "            fourier_act.zero_grad()\n",
    "        optim.zero_grad()\n",
    "\n",
    "        features, labels = features_.to(DEVICE), labels_.to(DEVICE)\n",
    "        pred = model.forward(features)\n",
    "        loss = criterion(pred, labels)\n",
    "\n",
    "        loss.backward(create_graph=True)\n",
    "\n",
    "        optim.step()\n",
    "        if mode == 'gdtuo':\n",
    "            fourier_act.step()\n",
    "\n",
    "        running_loss += loss.item() * features_.size(0)\n",
    "        running_acc += (torch.argmax(pred, dim=1) == labels).sum().item()\n",
    "    train_loss = running_loss / len(dl_train.dataset)\n",
    "    train_acc = running_acc / len(dl_train.dataset)\n",
    "\n",
    "    running_acc = 0.0\n",
    "    with torch.no_grad():\n",
    "        for j, (features_, labels_) in enumerate(dl_test):\n",
    "            features, labels = features_.to(DEVICE), labels_.to(DEVICE)\n",
    "            pred = model.forward(features)\n",
    "            running_acc += (torch.argmax(pred, dim=1) == labels).sum().item()\n",
    "\n",
    "    test_acc = running_acc / len(dl_test.dataset)\n",
    "    print(\"EPOCH: {}, TRAIN LOSS: {}, ACC: {}\".format(i, train_loss, train_acc))\n",
    "    print(\"EPOCH: {}, TEST ACC: {}\\n\".format(i, test_acc))\n",
    "\n",
    "print(\"Time taken: {}\".format(time.time() - init_time))"
   ]
  },
  {
   "cell_type": "code",
   "execution_count": 4,
   "metadata": {},
   "outputs": [
    {
     "name": "stderr",
     "output_type": "stream",
     "text": [
      "/tmp/ipykernel_2182076/906422389.py:31: DeprecationWarning: Starting with ImageIO v3 the behavior of this function will switch to that of iio.v3.imread. To keep the current behavior (and make this warning disappear) use `import imageio.v2 as imageio` or call `imageio.v2.imread` directly.\n",
      "  imageio.mimsave(video, [imageio.imread('plots/{}.png'.format(i)) for i in range(len(A_list))], fps = 6)\n"
     ]
    },
    {
     "data": {
      "text/html": [
       "<video src=\"./fourier_act.mp4\" controls  >\n",
       "      Your browser does not support the <code>video</code> element.\n",
       "    </video>"
      ],
      "text/plain": [
       "<IPython.core.display.Video object>"
      ]
     },
     "execution_count": 4,
     "metadata": {},
     "output_type": "execute_result"
    },
    {
     "ename": "",
     "evalue": "",
     "output_type": "error",
     "traceback": [
      "\u001b[1;31mThe Kernel crashed while executing code in the current cell or a previous cell. \n",
      "\u001b[1;31mPlease review the code in the cell(s) to identify a possible cause of the failure. \n",
      "\u001b[1;31mClick <a href='https://aka.ms/vscodeJupyterKernelCrash'>here</a> for more info. \n",
      "\u001b[1;31mView Jupyter <a href='command:jupyter.viewOutput'>log</a> for further details."
     ]
    }
   ],
   "source": [
    "for i in range(len(A_list)):\n",
    "    x = np.linspace(-10, 10, 100)\n",
    "    y_baseline = F.gelu(torch.tensor(x)).numpy()\n",
    "    x = torch.tensor(x)\n",
    "    if mode == 'gdtuo':\n",
    "        cur_fourier_act = FourierAct(gdtuo.Adam(0.001), {'Acoeffs': torch.tensor(A_list[i]), 'Bcoeffs': torch.tensor(B_list[i]), 'period': torch.tensor(period_list[i])})\n",
    "    else:\n",
    "        cur_fourier_act = Fourier_Act_torch(5, {'Acoeffs': torch.tensor(A_list[i]), 'Bcoeffs': torch.tensor(B_list[i]), 'period': torch.tensor(period_list[i])})\n",
    "    y = cur_fourier_act(x).detach().numpy()\n",
    "\n",
    "    fig, ax = plt.subplots()\n",
    "    ax.plot(x, y_baseline)\n",
    "    ax.plot(x, y)\n",
    "\n",
    "    # set small cross at 0.0\n",
    "    ax.plot([0.0], [0.0], 'x', color='red')\n",
    "    ax.set_title('fourier_act on all activations for CIFAR10 beats GeLU and ReLU')\n",
    "    ax.set_xlabel('x')\n",
    "    ax.set_ylabel('y')\n",
    "\n",
    "    ax.legend(['baseline (gelu)', 'fourier_act'])\n",
    "    ax.set_xlim([-10, 10])\n",
    "    ax.set_ylim([-3, 10])\n",
    "    ax.grid()\n",
    "\n",
    "    os.makedirs('plots', exist_ok=True)\n",
    "    plt.savefig('plots/{}.png'.format(i))\n",
    "    plt.close()\n",
    "\n",
    "video = './fourier_act.mp4'\n",
    "imageio.mimsave(video, [imageio.imread('plots/{}.png'.format(i)) for i in range(len(A_list))], fps = 6)\n",
    "#play it here\n",
    "Video(video)"
   ]
  }
 ],
 "metadata": {
  "kernelspec": {
   "display_name": "Python 3",
   "language": "python",
   "name": "python3"
  },
  "language_info": {
   "codemirror_mode": {
    "name": "ipython",
    "version": 3
   },
   "file_extension": ".py",
   "mimetype": "text/x-python",
   "name": "python",
   "nbconvert_exporter": "python",
   "pygments_lexer": "ipython3",
   "version": "3.10.12"
  }
 },
 "nbformat": 4,
 "nbformat_minor": 2
}
